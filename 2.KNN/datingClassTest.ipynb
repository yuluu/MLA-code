import numpy as np
import operator

def classify0(test,dataSet,labels,k):
    dataSetSize = dataSet.shape[0]
    diffMat = np.tile(test,(dataSetSize,1)) - dataSet
    sqDiffMat = diffMat**2
    sqDistances = np.sum(sqDiffMat,axis=1)
    distances = sqDistances**0.5
    sortedDistances = np.argsort(distances)
    classCount = {}
    for i in range(k):
        if labels[sortedDistances[i]] not in classCount:
            classCount[labels[sortedDistances[i]]] = 1
        else:
            classCount[labels[sortedDistances[i]]] += 1
    sortedClassCount = sorted(classCount.items(),key=lambda item:item[1],reverse=True)
    return sortedClassCount[0][0]

def file2Matrix(filename):
    arrayLines = open(filename).readlines()
    lenOfLines = len(arrayLines)
    featureMat = np.zeros((lenOfLines,3))
    classLabel = []
    index = 0
    for line in arrayLines:
        line = line.strip()
        listFromLine = line.split("\t")
        featureMat[index,:] = listFromLine[0:3]
        classLabel.append(int(listFromLine[-1]))
        index += 1
    return featureMat,classLabel

filename = "data/datingTestSet2.txt"
featureMat,classLabel = file2Matrix(filename)   
fig = plt.figure()
ax = fig.add_subplot(111)
ax.scatter(featureMat[:,0],featureMat[:,1],15.0*np.array(classLabel),15.0*np.array(classLabel))
plt.show()

def autoNorm(dataset):
    maxVals = np.max(dataset,axis=0)
    minVals = np.min(dataset,axis=0)
    normMat = np.zeros(np.shape(dataset))
    m = dataset.shape[0]
    normMat = dataset - np.tile(minVals,(m,1))
    normMat = normMat/np.tile(maxVals-minVals,(m,1))
    return normMat
    
def datingClassTest():
    testRatio = 0.1
    featureMat,classLabel = file2Matrix("data/datingTestSet2.txt")  
    normMat = autoNorm(featureMat)
    m = normMat.shape[0]   
    testNum = int(m*testRatio)
    errCount = 0
    for i in range(testNum):
        classifyResult = classify0(normMat[i,:],normMat[testNum:m,:],classLabel[testNum:m],3)
        if classifyResult != classLabel[i]:
            errCount += 1
    print("the total error rate is: %f" % (errCount/testNum))
datingClassTest()  

def classifyPerson():
    resultList = ["not at all","in small doses","in large doses"]
    
    featureMat,classLabel = file2Matrix("data/datingTestSet2.txt")  
    normMat,ranges,minVals = autoNorm(featureMat)
    
    ffMile = float(input("frequent flier miles earned per year?"))
    percentTats = float(input("percenttages of time spent playing video games?"))
    iceCream = float(input("liters of ice cream consumed per year?"))
    testArr = np.array([ffMile,percentTats,iceCream])

    classifierResult = classify0((testArr-minVals)/ranges,normMat,classLabel,3)
    print("you probably like this person?",resultList[classifierResult-1])
    
classifyPerson()  
