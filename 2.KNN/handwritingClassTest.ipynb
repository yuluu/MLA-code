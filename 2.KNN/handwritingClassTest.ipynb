from os import listdir

def img2vector(filename):
    returnVect = np.zeros((1,1024))
    fr = open(filename)
    for i in range(32):
        lineStr = fr.readline()
        for j in range(32):
            returnVect[0,32*i+j] = int(lineStr[j]) 
    return returnVect

img2vector("data/digits/trainingDigits/0_1.txt")

def handwritingClassTest():
    hwlabels = []
    trainingFileList = listdir("data/digits/trainingDigits")
    m = len(trainingFileList)
    trainingMat = np.zeros((m,1024))
    for i in range(m):
        fileNameStr = trainingFileList[i]
        filestr = fileNameStr.split(".")[0]
        classNumStr = int(fileNameStr.split("_")[0])
        hwlabels.append(classNumStr)
        trainingMat[i,:] = img2vector("data/digits/trainingDigits/%s" % fileNameStr)
        
    errCount = 0
    testFileList = listdir("data/digits/testDigits")
    mTest = len(testFileList)
    for i in range(mTest):
        fileNameStr = testFileList[i]
        filestr = fileNameStr.split(".")[0]
        classNumStr = int(fileNameStr.split("_")[0])
        testVector = img2vector("data/digits/testDigits/%s" % fileNameStr)
        testVectorResult = classify0(testVector,trainingMat,hwlabels,3)
        if testVectorResult != classNumStr:
            print("the classifier came back with: %s,the real answer is: %s" %(testVectorResult,classNumStr))
            errCount += 1
    print("the total number of errors is:%d" % errCount)
    print("the total error rate is: %f" % (errCount/float(mTest)))
handwritingClassTest()  
